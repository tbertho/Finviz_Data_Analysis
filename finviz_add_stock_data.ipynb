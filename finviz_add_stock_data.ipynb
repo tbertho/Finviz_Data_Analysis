{
 "cells": [
  {
   "cell_type": "code",
   "execution_count": 21,
   "metadata": {},
   "outputs": [
    {
     "name": "stdout",
     "output_type": "stream",
     "text": [
      "[*********************100%%**********************]  1 of 1 completed\n"
     ]
    }
   ],
   "source": [
    "import pandas as pd\n",
    "import csv\n",
    "import yfinance as yf\n",
    "\n",
    "#Insider Data Amazon\n",
    "insider_df = pd.read_csv('C:/Users/trist/code/Data/Finviz_insider/Data/AMZN.csv')\n",
    "# Stock Data Amazon\n",
    "ticker_symbol = 'AMZN'\n",
    "start_date = '2023-01-01'\n",
    "end_date = '2023-11-30'\n",
    "amazon_df = yf.download(ticker_symbol, start=start_date, end=end_date)\n",
    "\n",
    "# insider_df: name='Date', dtype= 'object'\n",
    "# amazon_df: name='Date', dtype='datetime64[ns]' \n"
   ]
  },
  {
   "cell_type": "code",
   "execution_count": 22,
   "metadata": {},
   "outputs": [
    {
     "name": "stdout",
     "output_type": "stream",
     "text": [
      "94\n"
     ]
    }
   ],
   "source": [
    "#Inner-Join\n",
    "insider_df['Date'] = pd.to_datetime(insider_df['Date'])\n",
    "result_df = pd.merge(insider_df, amazon_df, left_on='Date', right_index=True, how='inner')\n",
    "\n",
    "x = len(result_df)\n",
    "#print(result_df)\n",
    "columns_list = result_df.columns.tolist()\n",
    "# # index_vals = amazon_df.index\n",
    "print(x)\n",
    "\n",
    "\n",
    "#ein paar Einträge scheinen zu fehlen... vielleicht weil es keine Daten über das Wochenende gibt? muss das Überprüfen\n"
   ]
  },
  {
   "cell_type": "code",
   "execution_count": 5,
   "metadata": {},
   "outputs": [
    {
     "name": "stdout",
     "output_type": "stream",
     "text": [
      "   timestamp insider_activity  stock_price\n",
      "0 2023-01-01              Buy          100\n",
      "1 2023-02-15             Sell          110\n",
      "2 2023-03-10              Buy          115\n"
     ]
    }
   ],
   "source": [
    "import pandas as pd\n",
    "\n",
    "# Example data (replace this with your actual DataFrames)\n",
    "insider_trades = pd.DataFrame({\n",
    "    'timestamp': ['2023-01-01', '2023-02-15', '2023-03-10'],\n",
    "    'insider_activity': ['Buy', 'Sell', 'Buy'],\n",
    "    # other insider trade columns\n",
    "})\n",
    "\n",
    "stock_prices = pd.DataFrame({\n",
    "    'timestamp': ['2023-01-01', '2023-01-02', '2023-02-15', '2023-02-16', '2023-03-10'],\n",
    "    'stock_price': [100, 105, 110, 108, 115],\n",
    "    # other stock price columns\n",
    "})\n",
    "\n",
    "# Convert timestamp columns to datetime objects\n",
    "insider_trades['timestamp'] = pd.to_datetime(insider_trades['timestamp'])\n",
    "stock_prices['timestamp'] = pd.to_datetime(stock_prices['timestamp'])\n",
    "\n",
    "# Specify the time window for stock prices around each insider trade\n",
    "time_window_days = 3\n",
    "\n",
    "# Perform the join based on the time window\n",
    "enriched_data = pd.merge_asof(\n",
    "    insider_trades,\n",
    "    stock_prices,\n",
    "    on='timestamp',\n",
    "    direction='nearest',  # Choose the nearest timestamp within the time window\n",
    "    tolerance=pd.Timedelta(days=time_window_days)\n",
    ")\n",
    "\n",
    "# Display the resulting DataFrame\n",
    "print(enriched_data)"
   ]
  }
 ],
 "metadata": {
  "kernelspec": {
   "display_name": "Python 3",
   "language": "python",
   "name": "python3"
  },
  "language_info": {
   "codemirror_mode": {
    "name": "ipython",
    "version": 3
   },
   "file_extension": ".py",
   "mimetype": "text/x-python",
   "name": "python",
   "nbconvert_exporter": "python",
   "pygments_lexer": "ipython3",
   "version": "3.11.5"
  },
  "orig_nbformat": 4
 },
 "nbformat": 4,
 "nbformat_minor": 2
}
