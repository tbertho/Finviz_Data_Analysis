{
 "cells": [
  {
   "cell_type": "code",
   "execution_count": 18,
   "metadata": {},
   "outputs": [
    {
     "name": "stdout",
     "output_type": "stream",
     "text": [
      "[*********************100%%**********************]  1 of 1 completed\n"
     ]
    },
    {
     "data": {
      "text/plain": [
       "<bound method NDFrame.describe of                  insider                        title transaction_date  \\\n",
       "0         Zapolsky David        Senior Vice President           Nov 22   \n",
       "1          Selipsky Adam      CEO Amazon Web Services           Nov 22   \n",
       "2       Reynolds Shelley               Vice President           Nov 21   \n",
       "3          Selipsky Adam      CEO Amazon Web Services           Nov 21   \n",
       "4         Zapolsky David        Senior Vice President           Nov 21   \n",
       "..                   ...                          ...              ...   \n",
       "95         Selipsky Adam      CEO Amazon Web Services           Apr 19   \n",
       "96         Selipsky Adam      CEO Amazon Web Services           Apr 05   \n",
       "97         Selipsky Adam      CEO Amazon Web Services           Apr 04   \n",
       "98  Herrington Douglas J  CEO Worldwide Amazon Stores           Apr 03   \n",
       "99         Selipsky Adam      CEO Amazon Web Services           Mar 21   \n",
       "\n",
       "   transaction_type    cost num_shares value_shares  \\\n",
       "0              Sale  145.00     18,440    2,673,800   \n",
       "1              Sale  144.68        500       72,340   \n",
       "2   Option Exercise    0.00      3,120            0   \n",
       "3   Option Exercise    0.00      7,760            0   \n",
       "4   Option Exercise    0.00     16,800            0   \n",
       "..              ...     ...        ...          ...   \n",
       "95             Sale  103.77        520       53,959   \n",
       "96             Sale  101.67        500       50,834   \n",
       "97             Sale  103.13        520       53,627   \n",
       "98             Sale  102.25      4,000      409,000   \n",
       "99             Sale  100.34      2,299      230,691   \n",
       "\n",
       "   total_num_shares_insider_owns         SEC_date        Date  \n",
       "0                         53,220  Nov 24 04:36 PM  2023-11-22  \n",
       "1                        121,060  Nov 24 04:23 PM  2023-11-22  \n",
       "2                        122,900  Nov 24 04:16 PM  2023-11-21  \n",
       "3                        125,164  Nov 24 04:23 PM  2023-11-21  \n",
       "4                         78,380  Nov 24 04:36 PM  2023-11-21  \n",
       "..                           ...              ...         ...  \n",
       "95                       136,780  Apr 21 06:06 PM  2023-04-19  \n",
       "96                       137,300  Apr 06 04:42 PM  2023-04-05  \n",
       "97                       137,800  Apr 06 04:42 PM  2023-04-04  \n",
       "98                       556,298  Apr 05 04:37 PM  2023-04-03  \n",
       "99                       138,320  Mar 23 04:39 PM  2023-03-21  \n",
       "\n",
       "[100 rows x 10 columns]>"
      ]
     },
     "execution_count": 18,
     "metadata": {},
     "output_type": "execute_result"
    }
   ],
   "source": [
    "import pandas as pd\n",
    "import csv\n",
    "import yfinance as yf\n",
    "\n",
    "\n",
    "df = pd.read_csv('C:/Users/trist/code/Data/Finviz_insider/Data/AMZN.csv')\n",
    "#df.head()\n",
    "\n",
    "\n",
    "\n",
    "ticker_symbol = 'AMZN'\n",
    "\n",
    "start_date = '2023-05-01'\n",
    "end_date = '2023-09-23'\n",
    "\n",
    "amazon_data = yf.download(ticker_symbol, start=start_date, end=end_date)\n",
    "# amazon_data.head()\n",
    "# print(amazon_data.dtypes)\n",
    "\n",
    "# amazon_data.head()\n",
    "\n",
    "df.describe\n",
    "\n",
    "# amazon_data.describe\n",
    "\n",
    "\n",
    "# # insider:\n",
    "# # Date  -> object\n",
    "# # 2023-11-22 \n",
    "# # \n",
    "# # stock:\n",
    "# # Date                  \n",
    "# # 2023-05-01  \n",
    "\n",
    "# df_joined = df.merge(amazon_data, on = 'Date', how = 'left')\n",
    "\n",
    "\n",
    "\n"
   ]
  },
  {
   "cell_type": "code",
   "execution_count": 5,
   "metadata": {},
   "outputs": [
    {
     "name": "stdout",
     "output_type": "stream",
     "text": [
      "   timestamp insider_activity  stock_price\n",
      "0 2023-01-01              Buy          100\n",
      "1 2023-02-15             Sell          110\n",
      "2 2023-03-10              Buy          115\n"
     ]
    }
   ],
   "source": [
    "import pandas as pd\n",
    "\n",
    "# Example data (replace this with your actual DataFrames)\n",
    "insider_trades = pd.DataFrame({\n",
    "    'timestamp': ['2023-01-01', '2023-02-15', '2023-03-10'],\n",
    "    'insider_activity': ['Buy', 'Sell', 'Buy'],\n",
    "    # other insider trade columns\n",
    "})\n",
    "\n",
    "stock_prices = pd.DataFrame({\n",
    "    'timestamp': ['2023-01-01', '2023-01-02', '2023-02-15', '2023-02-16', '2023-03-10'],\n",
    "    'stock_price': [100, 105, 110, 108, 115],\n",
    "    # other stock price columns\n",
    "})\n",
    "\n",
    "# Convert timestamp columns to datetime objects\n",
    "insider_trades['timestamp'] = pd.to_datetime(insider_trades['timestamp'])\n",
    "stock_prices['timestamp'] = pd.to_datetime(stock_prices['timestamp'])\n",
    "\n",
    "# Specify the time window for stock prices around each insider trade\n",
    "time_window_days = 3\n",
    "\n",
    "# Perform the join based on the time window\n",
    "enriched_data = pd.merge_asof(\n",
    "    insider_trades,\n",
    "    stock_prices,\n",
    "    on='timestamp',\n",
    "    direction='nearest',  # Choose the nearest timestamp within the time window\n",
    "    tolerance=pd.Timedelta(days=time_window_days)\n",
    ")\n",
    "\n",
    "# Display the resulting DataFrame\n",
    "print(enriched_data)"
   ]
  }
 ],
 "metadata": {
  "kernelspec": {
   "display_name": "Python 3",
   "language": "python",
   "name": "python3"
  },
  "language_info": {
   "codemirror_mode": {
    "name": "ipython",
    "version": 3
   },
   "file_extension": ".py",
   "mimetype": "text/x-python",
   "name": "python",
   "nbconvert_exporter": "python",
   "pygments_lexer": "ipython3",
   "version": "3.11.5"
  },
  "orig_nbformat": 4
 },
 "nbformat": 4,
 "nbformat_minor": 2
}
