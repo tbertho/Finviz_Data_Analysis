{
 "cells": [
  {
   "cell_type": "code",
   "execution_count": 1,
   "metadata": {},
   "outputs": [
    {
     "name": "stdout",
     "output_type": "stream",
     "text": [
      "[*********************100%%**********************]  1 of 1 completed\n"
     ]
    }
   ],
   "source": [
    "import pandas as pd\n",
    "import csv\n",
    "import yfinance as yf\n",
    "\n",
    "#Load Data\n",
    "\n",
    "#Insider Data Amazon\n",
    "insider_df = pd.read_csv('C:/Users/trist/code/Data/Finviz_insider/Data/AMZN.csv')\n",
    "\n",
    "# Stock Data Amazon\n",
    "ticker_symbol = 'AMZN'\n",
    "start_date = '2023-01-01'\n",
    "end_date = '2023-11-30'\n",
    "amazon_df = yf.download(ticker_symbol, start=start_date, end=end_date)\n",
    "\n",
    "# insider_df: name='Date', dtype= 'object'\n",
    "# amazon_df: name='Date', dtype='datetime64[ns]' \n"
   ]
  },
  {
   "cell_type": "markdown",
   "metadata": {},
   "source": [
    "### Todo\n",
    "Diskutieren ob percentage_change = (daily_change['Close'].iloc[-1] - row['Open']) / row['Open'] * 100 Sinn macht. Vielleicht besser an Tradeday die 'Open' col zu verwenden?\n",
    "\n",
    "wenn das modell jeden Tag läuft, dann schauen, dass ich das auf Minutenbasis umstelle. yfinance stellt Daten auf minutenbasis bis zu 30 Tage in die Vergangenheit zur Verfügung."
   ]
  },
  {
   "cell_type": "code",
   "execution_count": 2,
   "metadata": {},
   "outputs": [],
   "source": [
    "#Enrich df with weekdays and ticker\n",
    "from datetime import datetime\n",
    "\n",
    "insider_df['SEC_date'] = pd.to_datetime(insider_df['SEC_date'], format='%b %d %I:%M %p')\n",
    "insider_df['Date'] = insider_df['SEC_date'].dt.strftime('%d.%m.%Y')\n",
    "current_year = datetime.now().year\n",
    "insider_df['Date'] = pd.to_datetime(insider_df['Date'], format='%d.%m.%Y')\n",
    "insider_df['Date'] = insider_df['Date'].apply(lambda x: x.replace(year=current_year))\n",
    "insider_df['Weekday_insider_trade'] = insider_df['Date'].dt.day_name()\n",
    "insider_df['Time'] = insider_df['SEC_date'].dt.strftime('%H:%M')\n",
    "\n",
    "amazon_df['Weekday_stocks'] = amazon_df.index.day_name()\n",
    "amazon_df['Ticker'] = ticker_symbol\n"
   ]
  },
  {
   "cell_type": "code",
   "execution_count": 3,
   "metadata": {},
   "outputs": [],
   "source": [
    "#Merge\n",
    "insider_df = insider_df.sort_values('Date')\n",
    "amazon_df = amazon_df.sort_values('Date')\n",
    "\n",
    "merged_df = pd.merge_asof(insider_df, amazon_df, on='Date', direction='forward')\n",
    "\n",
    "merged_df"
   ]
  },
  {
   "cell_type": "code",
   "execution_count": 39,
   "metadata": {},
   "outputs": [
    {
     "name": "stdout",
     "output_type": "stream",
     "text": [
      "2023-03-23 00:00:00\n",
      "Thursday\n",
      "Nach if:2023-03-23 00:00:00\n",
      "\n",
      "\n",
      "2023-04-05 00:00:00\n",
      "Wednesday\n",
      "Nach if:2023-04-05 00:00:00\n",
      "\n",
      "\n",
      "2023-04-06 00:00:00\n",
      "Thursday\n",
      "Nach if:2023-04-06 00:00:00\n",
      "\n",
      "\n",
      "2023-04-06 00:00:00\n",
      "Thursday\n",
      "Nach if:2023-04-06 00:00:00\n",
      "\n",
      "\n",
      "2023-04-21 00:00:00\n",
      "Friday\n",
      "Nach if:2023-04-24 00:00:00\n",
      "\n",
      "\n",
      "2023-04-21 00:00:00\n",
      "Friday\n",
      "Nach if:2023-04-24 00:00:00\n",
      "\n",
      "\n"
     ]
    }
   ],
   "source": [
    "#Creating KPIs\n",
    "small_df = merged_df[['Date', 'Weekday_insider_trade', 'Time', 'insider', 'Open', 'Close', 'Weekday_stocks']]\n",
    "stock_df_copy = small_df.copy()\n",
    "\n",
    "# Calculate the daily percentage change using .loc on the copied DataFrame\n",
    "\n",
    "####Baustelle##############\n",
    "#stock_df_copy.loc[:, 'DailyChange'] = (stock_df_copy['Close'] - stock_df_copy['Open']) / stock_df_copy['Open'] * 100\n",
    "\n",
    "### Calculate a 3, 7, 30 day percentage change ###\n",
    "stock_df_copy['3DayChange'] = 0.0\n",
    "stock_df_copy['WeekAfterChange'] = 0.0\n",
    "stock_df_copy['MonthAfterChange'] = 0.0\n",
    "\n",
    "counter = 0  # Initialize the counter\n",
    "\n",
    "from pandas.tseries.offsets import BDay\n",
    "from datetime import timedelta\n",
    "\n",
    "\n",
    "for index, row in stock_df_copy.iterrows():\n",
    "    insidertrade_date = row['Date']\n",
    "    insidertrade_time = row['Time']\n",
    "    insidertrade_weekday = row['Weekday_insider_trade']\n",
    "\n",
    "    insidertrade_time = datetime.strptime(insidertrade_time, \"%H:%M\")\n",
    "    threshold_time = datetime.strptime(\"17:00\", \"%H:%M\")\n",
    "    \n",
    "    print(insidertrade_date)\n",
    "    print(insidertrade_weekday)\n",
    "\n",
    "\n",
    "    #falls Formular nach Börsenschluss hochgeladen wird\n",
    "    if insidertrade_time > threshold_time:\n",
    "        insidertrade_date = insidertrade_date + BDay(1)\n",
    "\n",
    "    print(\"Nach if:\" + str(insidertrade_date))\n",
    "    print(\"\\n\")\n",
    "\n",
    "    #Update DailyChange Col\n",
    "    daily_change = amazon_df[amazon_df.index == insidertrade_date]\n",
    "    percentage_change = (daily_change['Close'].iloc[-1] - row['Open']) / row['Open'] * 100\n",
    "    stock_df_copy.at[index, 'DailyChange'] = percentage_change\n",
    "    \n",
    "    \n",
    "    #Update 3DayChange Col\n",
    "    threedays_after_date = insidertrade_date + BDay(3)  # Use business day offset to add 3 weekdays    \n",
    "    threedays_after_date = amazon_df[(amazon_df.index >= insidertrade_date) & (amazon_df.index <= threedays_after_date)]\n",
    "\n",
    "    \n",
    "    if len(threedays_after_date) < 3: \n",
    "        stock_df_copy.at[index, '3DayChange'] = None\n",
    "    else:\n",
    "        percentage_change = (threedays_after_date['Close'].iloc[-1] - row['Close']) / row['Close'] * 100\n",
    "        stock_df_copy.at[index, '3DayChange'] = percentage_change\n",
    "   \n",
    "\n",
    "    #Update WeekAfterChange Col\n",
    "    week_after_date = insidertrade_date + BDay(7)\n",
    "    week_after_data = amazon_df[(amazon_df.index >= insidertrade_date) & (amazon_df.index <= week_after_date)]\n",
    "    if len(week_after_data) < 7:\n",
    "        stock_df_copy.at[index, 'WeekAfterChange'] = None\n",
    "    else:\n",
    "        percentage_change = (week_after_data['Close'].iloc[-1] - row['Close']) / row['Close'] * 100\n",
    "        stock_df_copy.at[index, 'WeekAfterChange'] = percentage_change\n",
    "\n",
    "\n",
    "    #Update MonthAfterChange Col\n",
    "    Month_After_Change = insidertrade_date + BDay(30)\n",
    "    Month_After_Change = amazon_df[(amazon_df.index >= insidertrade_date) & (amazon_df.index <= Month_After_Change)]\n",
    "    \n",
    "\n",
    "    if len(Month_After_Change) < 30:\n",
    "        stock_df_copy.at[index, 'MonthAfterChange'] = None\n",
    "    else:\n",
    "        percentage_change = (Month_After_Change['Close'].iloc[-1] - row['Close']) / row['Close'] * 100\n",
    "        stock_df_copy.at[index, 'MonthAfterChange'] = percentage_change\n",
    "\n",
    "    counter +=1\n",
    "    if counter ==6:\n",
    "        break\n",
    "\n",
    "#stock_df_copy.head(50)"
   ]
  },
  {
   "cell_type": "code",
   "execution_count": 19,
   "metadata": {},
   "outputs": [
    {
     "name": "stdout",
     "output_type": "stream",
     "text": [
      "                  Open        High         Low       Close   Adj Close  \\\n",
      "Date                                                                     \n",
      "2023-03-23  100.430000  101.059998   97.620003   98.709999   98.709999   \n",
      "2023-03-24   98.070000   98.300003   96.400002   98.129997   98.129997   \n",
      "2023-03-27   99.070000   99.339996   97.080002   98.040001   98.040001   \n",
      "2023-03-28   98.110001   98.440002   96.290001   97.239998   97.239998   \n",
      "2023-03-29   98.690002  100.419998   98.559998  100.250000  100.250000   \n",
      "2023-03-30  101.550003  103.040001  101.010002  102.000000  102.000000   \n",
      "2023-03-31  102.160004  103.489998  101.949997  103.290001  103.290001   \n",
      "2023-04-03  102.300003  103.290001  101.430000  102.410004  102.410004   \n",
      "\n",
      "              Volume Weekday_stocks Ticker  \n",
      "Date                                        \n",
      "2023-03-23  57559300       Thursday   AMZN  \n",
      "2023-03-24  56095400         Friday   AMZN  \n",
      "2023-03-27  46721300         Monday   AMZN  \n",
      "2023-03-28  38720100        Tuesday   AMZN  \n",
      "2023-03-29  49783300      Wednesday   AMZN  \n",
      "2023-03-30  53633400       Thursday   AMZN  \n",
      "2023-03-31  56750300         Friday   AMZN  \n",
      "2023-04-03  41135700         Monday   AMZN  \n"
     ]
    }
   ],
   "source": [
    "#Test Insidertrade date 2023-03-23\t\n",
    "\n",
    "insider_test_date = \"2023-03-23\"\n",
    "insider_test_date = pd.to_datetime(insider_test_date)\n",
    "\n",
    "#Dailychange test -> passt\n",
    "amazon_test_df = amazon_df[(amazon_df.index == \"2023-03-23\")]\n",
    "\n",
    "#3Daychange test -> passt\n",
    "threedays_after_date = insider_test_date + BDay(3)\n",
    "amazon_test_df = amazon_df[(amazon_df.index >= insider_test_date) & (amazon_df.index <= threedays_after_date)]\n",
    "\n",
    "\n",
    "#3Daychange test -> passt\n",
    "sevendays_after_date = insider_test_date + BDay(7)\n",
    "amazon_test_df = amazon_df[(amazon_df.index >= insider_test_date) & (amazon_df.index <= sevendays_after_date)]\n",
    "print(amazon_test_df)"
   ]
  },
  {
   "cell_type": "code",
   "execution_count": 36,
   "metadata": {},
   "outputs": [
    {
     "name": "stdout",
     "output_type": "stream",
     "text": [
      "                  Open        High         Low       Close   Adj Close  \\\n",
      "Date                                                                     \n",
      "2023-04-21  106.099998  108.150002  105.080002  106.959999  106.959999   \n",
      "2023-04-24  107.660004  109.230003  105.070000  106.209999  106.209999   \n",
      "2023-04-25  104.910004  105.449997  102.449997  102.570000  102.570000   \n",
      "2023-04-26  105.040001  106.620003  104.099998  104.980003  104.980003   \n",
      "\n",
      "              Volume Weekday_stocks Ticker  \n",
      "Date                                        \n",
      "2023-04-21  86774200         Friday   AMZN  \n",
      "2023-04-24  69575600         Monday   AMZN  \n",
      "2023-04-25  65026800        Tuesday   AMZN  \n",
      "2023-04-26  73803800      Wednesday   AMZN  \n"
     ]
    }
   ],
   "source": [
    "#Test Insidertrade date 2023-04-21\t\n",
    "insider_test_date = \"2023-04-21\"\n",
    "insider_test_date = pd.to_datetime(insider_test_date)\n",
    "\n",
    "\n",
    "threedays_after_date = insider_test_date + BDay(3)\n",
    "amazon_test_df = amazon_df[(amazon_df.index >= insider_test_date) & (amazon_df.index <= threedays_after_date)]\n",
    "print(amazon_test_df)"
   ]
  }
 ],
 "metadata": {
  "kernelspec": {
   "display_name": "Python 3",
   "language": "python",
   "name": "python3"
  },
  "language_info": {
   "codemirror_mode": {
    "name": "ipython",
    "version": 3
   },
   "file_extension": ".py",
   "mimetype": "text/x-python",
   "name": "python",
   "nbconvert_exporter": "python",
   "pygments_lexer": "ipython3",
   "version": "3.11.5"
  },
  "orig_nbformat": 4
 },
 "nbformat": 4,
 "nbformat_minor": 2
}
